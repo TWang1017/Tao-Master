{
 "cells": [
  {
   "cell_type": "code",
   "execution_count": 7,
   "metadata": {},
   "outputs": [],
   "source": [
    "import pandas as pd\n",
    "from sklearn.decomposition import PCA\n",
    "import numpy as np\n",
    "import matplotlib.pyplot as plt\n",
    "from sklearn.preprocessing import StandardScaler"
   ]
  },
  {
   "cell_type": "markdown",
   "metadata": {},
   "source": [
    "# Read data"
   ]
  },
  {
   "cell_type": "code",
   "execution_count": 4,
   "metadata": {},
   "outputs": [],
   "source": [
    "# Read one year data from a random building after FE\n",
    "features = pd.read_csv('/Users/t.wang/Desktop/Dissertation/Python/WT-result/Filter_One_year_features.csv')\n",
    "target = pd.read_csv('/Users/t.wang/Desktop/Dissertation/Python/WT-result/Filter_One_year_target.csv')"
   ]
  },
  {
   "cell_type": "code",
   "execution_count": 5,
   "metadata": {},
   "outputs": [
    {
     "data": {
      "text/html": [
       "<div>\n",
       "<style scoped>\n",
       "    .dataframe tbody tr th:only-of-type {\n",
       "        vertical-align: middle;\n",
       "    }\n",
       "\n",
       "    .dataframe tbody tr th {\n",
       "        vertical-align: top;\n",
       "    }\n",
       "\n",
       "    .dataframe thead th {\n",
       "        text-align: right;\n",
       "    }\n",
       "</style>\n",
       "<table border=\"1\" class=\"dataframe\">\n",
       "  <thead>\n",
       "    <tr style=\"text-align: right;\">\n",
       "      <th></th>\n",
       "      <th>seasonal_num</th>\n",
       "      <th>TemperatureC</th>\n",
       "      <th>Humidity</th>\n",
       "      <th>Dew PointC</th>\n",
       "      <th>Sea Level PressurehPa</th>\n",
       "      <th>Wind Direction = SE</th>\n",
       "      <th>Wind Direction = WNW</th>\n",
       "      <th>Wind Direction = NW</th>\n",
       "      <th>Wind Direction = West</th>\n",
       "      <th>Wind Direction = South</th>\n",
       "      <th>...</th>\n",
       "      <th>PERCENTILE(Dew PointC - Humidity)</th>\n",
       "      <th>PERCENTILE(seasonal_num - WindDirDegrees)</th>\n",
       "      <th>PERCENTILE(Dew PointC - Sea Level PressurehPa)</th>\n",
       "      <th>PERCENTILE(seasonal_num - TemperatureC)</th>\n",
       "      <th>PERCENTILE(Humidity - Sea Level PressurehPa)</th>\n",
       "      <th>PERCENTILE(Dew PointC - WindDirDegrees)</th>\n",
       "      <th>PERCENTILE(Humidity - TemperatureC)</th>\n",
       "      <th>PERCENTILE(Humidity - seasonal_num)</th>\n",
       "      <th>PERCENTILE(Humidity - WindDirDegrees)</th>\n",
       "      <th>PERCENTILE(Sea Level PressurehPa - TemperatureC)</th>\n",
       "    </tr>\n",
       "  </thead>\n",
       "  <tbody>\n",
       "    <tr>\n",
       "      <th>0</th>\n",
       "      <td>1</td>\n",
       "      <td>3.9</td>\n",
       "      <td>100.0</td>\n",
       "      <td>3.9</td>\n",
       "      <td>1007.3</td>\n",
       "      <td>0</td>\n",
       "      <td>0</td>\n",
       "      <td>0</td>\n",
       "      <td>0</td>\n",
       "      <td>0</td>\n",
       "      <td>...</td>\n",
       "      <td>0.026712</td>\n",
       "      <td>0.082820</td>\n",
       "      <td>0.716381</td>\n",
       "      <td>0.615183</td>\n",
       "      <td>0.992865</td>\n",
       "      <td>0.111358</td>\n",
       "      <td>0.983847</td>\n",
       "      <td>0.997260</td>\n",
       "      <td>0.232477</td>\n",
       "      <td>0.461701</td>\n",
       "    </tr>\n",
       "    <tr>\n",
       "      <th>1</th>\n",
       "      <td>1</td>\n",
       "      <td>4.4</td>\n",
       "      <td>93.0</td>\n",
       "      <td>3.3</td>\n",
       "      <td>1006.9</td>\n",
       "      <td>0</td>\n",
       "      <td>0</td>\n",
       "      <td>0</td>\n",
       "      <td>0</td>\n",
       "      <td>0</td>\n",
       "      <td>...</td>\n",
       "      <td>0.102568</td>\n",
       "      <td>0.057477</td>\n",
       "      <td>0.709817</td>\n",
       "      <td>0.602911</td>\n",
       "      <td>0.964269</td>\n",
       "      <td>0.077169</td>\n",
       "      <td>0.919121</td>\n",
       "      <td>0.951998</td>\n",
       "      <td>0.158619</td>\n",
       "      <td>0.439897</td>\n",
       "    </tr>\n",
       "    <tr>\n",
       "      <th>2</th>\n",
       "      <td>1</td>\n",
       "      <td>3.9</td>\n",
       "      <td>100.0</td>\n",
       "      <td>3.9</td>\n",
       "      <td>1006.4</td>\n",
       "      <td>0</td>\n",
       "      <td>0</td>\n",
       "      <td>1</td>\n",
       "      <td>0</td>\n",
       "      <td>0</td>\n",
       "      <td>...</td>\n",
       "      <td>0.026712</td>\n",
       "      <td>0.113299</td>\n",
       "      <td>0.739783</td>\n",
       "      <td>0.615183</td>\n",
       "      <td>0.994406</td>\n",
       "      <td>0.147945</td>\n",
       "      <td>0.983847</td>\n",
       "      <td>0.997260</td>\n",
       "      <td>0.269521</td>\n",
       "      <td>0.439897</td>\n",
       "    </tr>\n",
       "    <tr>\n",
       "      <th>3</th>\n",
       "      <td>1</td>\n",
       "      <td>3.3</td>\n",
       "      <td>97.0</td>\n",
       "      <td>2.8</td>\n",
       "      <td>1006.5</td>\n",
       "      <td>0</td>\n",
       "      <td>0</td>\n",
       "      <td>1</td>\n",
       "      <td>0</td>\n",
       "      <td>0</td>\n",
       "      <td>...</td>\n",
       "      <td>0.043208</td>\n",
       "      <td>0.113299</td>\n",
       "      <td>0.707192</td>\n",
       "      <td>0.628139</td>\n",
       "      <td>0.987900</td>\n",
       "      <td>0.142694</td>\n",
       "      <td>0.968037</td>\n",
       "      <td>0.988128</td>\n",
       "      <td>0.259532</td>\n",
       "      <td>0.457877</td>\n",
       "    </tr>\n",
       "    <tr>\n",
       "      <th>4</th>\n",
       "      <td>1</td>\n",
       "      <td>3.3</td>\n",
       "      <td>97.0</td>\n",
       "      <td>2.8</td>\n",
       "      <td>1006.5</td>\n",
       "      <td>0</td>\n",
       "      <td>0</td>\n",
       "      <td>1</td>\n",
       "      <td>0</td>\n",
       "      <td>0</td>\n",
       "      <td>...</td>\n",
       "      <td>0.043208</td>\n",
       "      <td>0.113299</td>\n",
       "      <td>0.707192</td>\n",
       "      <td>0.628139</td>\n",
       "      <td>0.987900</td>\n",
       "      <td>0.142694</td>\n",
       "      <td>0.968037</td>\n",
       "      <td>0.988128</td>\n",
       "      <td>0.259532</td>\n",
       "      <td>0.457877</td>\n",
       "    </tr>\n",
       "  </tbody>\n",
       "</table>\n",
       "<p>5 rows × 2858 columns</p>\n",
       "</div>"
      ],
      "text/plain": [
       "   seasonal_num  TemperatureC  Humidity  Dew PointC  Sea Level PressurehPa  \\\n",
       "0             1           3.9     100.0         3.9                 1007.3   \n",
       "1             1           4.4      93.0         3.3                 1006.9   \n",
       "2             1           3.9     100.0         3.9                 1006.4   \n",
       "3             1           3.3      97.0         2.8                 1006.5   \n",
       "4             1           3.3      97.0         2.8                 1006.5   \n",
       "\n",
       "   Wind Direction = SE  Wind Direction = WNW  Wind Direction = NW  \\\n",
       "0                    0                     0                    0   \n",
       "1                    0                     0                    0   \n",
       "2                    0                     0                    1   \n",
       "3                    0                     0                    1   \n",
       "4                    0                     0                    1   \n",
       "\n",
       "   Wind Direction = West  Wind Direction = South  ...  \\\n",
       "0                      0                       0  ...   \n",
       "1                      0                       0  ...   \n",
       "2                      0                       0  ...   \n",
       "3                      0                       0  ...   \n",
       "4                      0                       0  ...   \n",
       "\n",
       "   PERCENTILE(Dew PointC - Humidity)  \\\n",
       "0                           0.026712   \n",
       "1                           0.102568   \n",
       "2                           0.026712   \n",
       "3                           0.043208   \n",
       "4                           0.043208   \n",
       "\n",
       "   PERCENTILE(seasonal_num - WindDirDegrees)  \\\n",
       "0                                   0.082820   \n",
       "1                                   0.057477   \n",
       "2                                   0.113299   \n",
       "3                                   0.113299   \n",
       "4                                   0.113299   \n",
       "\n",
       "   PERCENTILE(Dew PointC - Sea Level PressurehPa)  \\\n",
       "0                                        0.716381   \n",
       "1                                        0.709817   \n",
       "2                                        0.739783   \n",
       "3                                        0.707192   \n",
       "4                                        0.707192   \n",
       "\n",
       "   PERCENTILE(seasonal_num - TemperatureC)  \\\n",
       "0                                 0.615183   \n",
       "1                                 0.602911   \n",
       "2                                 0.615183   \n",
       "3                                 0.628139   \n",
       "4                                 0.628139   \n",
       "\n",
       "   PERCENTILE(Humidity - Sea Level PressurehPa)  \\\n",
       "0                                      0.992865   \n",
       "1                                      0.964269   \n",
       "2                                      0.994406   \n",
       "3                                      0.987900   \n",
       "4                                      0.987900   \n",
       "\n",
       "   PERCENTILE(Dew PointC - WindDirDegrees)  \\\n",
       "0                                 0.111358   \n",
       "1                                 0.077169   \n",
       "2                                 0.147945   \n",
       "3                                 0.142694   \n",
       "4                                 0.142694   \n",
       "\n",
       "   PERCENTILE(Humidity - TemperatureC)  PERCENTILE(Humidity - seasonal_num)  \\\n",
       "0                             0.983847                             0.997260   \n",
       "1                             0.919121                             0.951998   \n",
       "2                             0.983847                             0.997260   \n",
       "3                             0.968037                             0.988128   \n",
       "4                             0.968037                             0.988128   \n",
       "\n",
       "   PERCENTILE(Humidity - WindDirDegrees)  \\\n",
       "0                               0.232477   \n",
       "1                               0.158619   \n",
       "2                               0.269521   \n",
       "3                               0.259532   \n",
       "4                               0.259532   \n",
       "\n",
       "   PERCENTILE(Sea Level PressurehPa - TemperatureC)  \n",
       "0                                          0.461701  \n",
       "1                                          0.439897  \n",
       "2                                          0.439897  \n",
       "3                                          0.457877  \n",
       "4                                          0.457877  \n",
       "\n",
       "[5 rows x 2858 columns]"
      ]
     },
     "execution_count": 5,
     "metadata": {},
     "output_type": "execute_result"
    }
   ],
   "source": [
    "features.head()"
   ]
  },
  {
   "cell_type": "code",
   "execution_count": 6,
   "metadata": {},
   "outputs": [
    {
     "data": {
      "text/html": [
       "<div>\n",
       "<style scoped>\n",
       "    .dataframe tbody tr th:only-of-type {\n",
       "        vertical-align: middle;\n",
       "    }\n",
       "\n",
       "    .dataframe tbody tr th {\n",
       "        vertical-align: top;\n",
       "    }\n",
       "\n",
       "    .dataframe thead th {\n",
       "        text-align: right;\n",
       "    }\n",
       "</style>\n",
       "<table border=\"1\" class=\"dataframe\">\n",
       "  <thead>\n",
       "    <tr style=\"text-align: right;\">\n",
       "      <th></th>\n",
       "      <th>0</th>\n",
       "    </tr>\n",
       "  </thead>\n",
       "  <tbody>\n",
       "    <tr>\n",
       "      <th>0</th>\n",
       "      <td>63.50</td>\n",
       "    </tr>\n",
       "    <tr>\n",
       "      <th>1</th>\n",
       "      <td>60.75</td>\n",
       "    </tr>\n",
       "    <tr>\n",
       "      <th>2</th>\n",
       "      <td>64.75</td>\n",
       "    </tr>\n",
       "    <tr>\n",
       "      <th>3</th>\n",
       "      <td>65.25</td>\n",
       "    </tr>\n",
       "    <tr>\n",
       "      <th>4</th>\n",
       "      <td>62.50</td>\n",
       "    </tr>\n",
       "  </tbody>\n",
       "</table>\n",
       "</div>"
      ],
      "text/plain": [
       "       0\n",
       "0  63.50\n",
       "1  60.75\n",
       "2  64.75\n",
       "3  65.25\n",
       "4  62.50"
      ]
     },
     "execution_count": 6,
     "metadata": {},
     "output_type": "execute_result"
    }
   ],
   "source": [
    "target.head()"
   ]
  },
  {
   "cell_type": "markdown",
   "metadata": {},
   "source": [
    "# Standardise the data"
   ]
  },
  {
   "cell_type": "markdown",
   "metadata": {},
   "source": [
    "1. The idea behind StandardScaler is that it will transform your data such that its distribution will have a mean value 0 and standard deviation of 1. Given the distribution of the data, each value in the dataset will have the sample mean value subtracted, and then divided by the standard deviation of the whole dataset. (https://stackoverflow.com/questions/40758562/can-anyone-explain-me-standardscaler)\n",
    "\n",
    "2. The preprocessing.scale() algorithm puts your data on one scale. This is helpful with largely sparse datasets. In simple words, your data is vastly spread out. For example the values of X maybe like so:\n",
    "\n",
    "    X = [1, 4, 400, 10000, 100000]\n",
    "\n",
    "    The issue with sparsity is that it very biased or in statistical terms skewed. So, therefore, scaling the data brings all your values onto one scale eliminating the sparsity. In regards to know how it works in mathematical detail, this follows the same concept of Normalization and Standardization (https://stackoverflow.com/questions/42325212/what-preprocessing-scale-do-how-does-it-work)"
   ]
  },
  {
   "cell_type": "code",
   "execution_count": 8,
   "metadata": {},
   "outputs": [],
   "source": [
    "features_std = StandardScaler().fit_transform(features)"
   ]
  },
  {
   "cell_type": "code",
   "execution_count": 12,
   "metadata": {},
   "outputs": [
    {
     "data": {
      "text/html": [
       "<div>\n",
       "<style scoped>\n",
       "    .dataframe tbody tr th:only-of-type {\n",
       "        vertical-align: middle;\n",
       "    }\n",
       "\n",
       "    .dataframe tbody tr th {\n",
       "        vertical-align: top;\n",
       "    }\n",
       "\n",
       "    .dataframe thead th {\n",
       "        text-align: right;\n",
       "    }\n",
       "</style>\n",
       "<table border=\"1\" class=\"dataframe\">\n",
       "  <thead>\n",
       "    <tr style=\"text-align: right;\">\n",
       "      <th></th>\n",
       "      <th>0</th>\n",
       "      <th>1</th>\n",
       "      <th>2</th>\n",
       "      <th>3</th>\n",
       "      <th>4</th>\n",
       "      <th>5</th>\n",
       "      <th>6</th>\n",
       "      <th>7</th>\n",
       "      <th>8</th>\n",
       "      <th>9</th>\n",
       "      <th>...</th>\n",
       "      <th>2848</th>\n",
       "      <th>2849</th>\n",
       "      <th>2850</th>\n",
       "      <th>2851</th>\n",
       "      <th>2852</th>\n",
       "      <th>2853</th>\n",
       "      <th>2854</th>\n",
       "      <th>2855</th>\n",
       "      <th>2856</th>\n",
       "      <th>2857</th>\n",
       "    </tr>\n",
       "  </thead>\n",
       "  <tbody>\n",
       "    <tr>\n",
       "      <th>0</th>\n",
       "      <td>-0.384046</td>\n",
       "      <td>-0.302313</td>\n",
       "      <td>1.860013</td>\n",
       "      <td>0.207543</td>\n",
       "      <td>-1.149100</td>\n",
       "      <td>-0.320715</td>\n",
       "      <td>-0.314617</td>\n",
       "      <td>-0.304878</td>\n",
       "      <td>-0.288711</td>\n",
       "      <td>-0.275025</td>\n",
       "      <td>...</td>\n",
       "      <td>-1.639718</td>\n",
       "      <td>-1.445889</td>\n",
       "      <td>0.749370</td>\n",
       "      <td>0.398822</td>\n",
       "      <td>1.707139</td>\n",
       "      <td>-1.346494</td>\n",
       "      <td>1.675901</td>\n",
       "      <td>1.722623</td>\n",
       "      <td>-0.926928</td>\n",
       "      <td>-0.132870</td>\n",
       "    </tr>\n",
       "    <tr>\n",
       "      <th>1</th>\n",
       "      <td>-0.384046</td>\n",
       "      <td>-0.263903</td>\n",
       "      <td>1.469148</td>\n",
       "      <td>0.158874</td>\n",
       "      <td>-1.196557</td>\n",
       "      <td>-0.320715</td>\n",
       "      <td>-0.314617</td>\n",
       "      <td>-0.304878</td>\n",
       "      <td>-0.288711</td>\n",
       "      <td>-0.275025</td>\n",
       "      <td>...</td>\n",
       "      <td>-1.376944</td>\n",
       "      <td>-1.533710</td>\n",
       "      <td>0.726632</td>\n",
       "      <td>0.356310</td>\n",
       "      <td>1.608080</td>\n",
       "      <td>-1.464930</td>\n",
       "      <td>1.451683</td>\n",
       "      <td>1.565805</td>\n",
       "      <td>-1.182783</td>\n",
       "      <td>-0.208400</td>\n",
       "    </tr>\n",
       "    <tr>\n",
       "      <th>2</th>\n",
       "      <td>-0.384046</td>\n",
       "      <td>-0.302313</td>\n",
       "      <td>1.860013</td>\n",
       "      <td>0.207543</td>\n",
       "      <td>-1.255878</td>\n",
       "      <td>-0.320715</td>\n",
       "      <td>-0.314617</td>\n",
       "      <td>3.279998</td>\n",
       "      <td>-0.288711</td>\n",
       "      <td>-0.275025</td>\n",
       "      <td>...</td>\n",
       "      <td>-1.639718</td>\n",
       "      <td>-1.340266</td>\n",
       "      <td>0.830436</td>\n",
       "      <td>0.398822</td>\n",
       "      <td>1.712478</td>\n",
       "      <td>-1.219753</td>\n",
       "      <td>1.675901</td>\n",
       "      <td>1.722623</td>\n",
       "      <td>-0.798606</td>\n",
       "      <td>-0.208400</td>\n",
       "    </tr>\n",
       "    <tr>\n",
       "      <th>3</th>\n",
       "      <td>-0.384046</td>\n",
       "      <td>-0.348404</td>\n",
       "      <td>1.692500</td>\n",
       "      <td>0.118318</td>\n",
       "      <td>-1.244013</td>\n",
       "      <td>-0.320715</td>\n",
       "      <td>-0.314617</td>\n",
       "      <td>3.279998</td>\n",
       "      <td>-0.288711</td>\n",
       "      <td>-0.275025</td>\n",
       "      <td>...</td>\n",
       "      <td>-1.582576</td>\n",
       "      <td>-1.340266</td>\n",
       "      <td>0.717536</td>\n",
       "      <td>0.443707</td>\n",
       "      <td>1.689938</td>\n",
       "      <td>-1.237944</td>\n",
       "      <td>1.621131</td>\n",
       "      <td>1.690982</td>\n",
       "      <td>-0.833207</td>\n",
       "      <td>-0.146117</td>\n",
       "    </tr>\n",
       "    <tr>\n",
       "      <th>4</th>\n",
       "      <td>-0.384046</td>\n",
       "      <td>-0.348404</td>\n",
       "      <td>1.692500</td>\n",
       "      <td>0.118318</td>\n",
       "      <td>-1.244013</td>\n",
       "      <td>-0.320715</td>\n",
       "      <td>-0.314617</td>\n",
       "      <td>3.279998</td>\n",
       "      <td>-0.288711</td>\n",
       "      <td>-0.275025</td>\n",
       "      <td>...</td>\n",
       "      <td>-1.582576</td>\n",
       "      <td>-1.340266</td>\n",
       "      <td>0.717536</td>\n",
       "      <td>0.443707</td>\n",
       "      <td>1.689938</td>\n",
       "      <td>-1.237944</td>\n",
       "      <td>1.621131</td>\n",
       "      <td>1.690982</td>\n",
       "      <td>-0.833207</td>\n",
       "      <td>-0.146117</td>\n",
       "    </tr>\n",
       "  </tbody>\n",
       "</table>\n",
       "<p>5 rows × 2858 columns</p>\n",
       "</div>"
      ],
      "text/plain": [
       "       0         1         2         3         4         5         6     \\\n",
       "0 -0.384046 -0.302313  1.860013  0.207543 -1.149100 -0.320715 -0.314617   \n",
       "1 -0.384046 -0.263903  1.469148  0.158874 -1.196557 -0.320715 -0.314617   \n",
       "2 -0.384046 -0.302313  1.860013  0.207543 -1.255878 -0.320715 -0.314617   \n",
       "3 -0.384046 -0.348404  1.692500  0.118318 -1.244013 -0.320715 -0.314617   \n",
       "4 -0.384046 -0.348404  1.692500  0.118318 -1.244013 -0.320715 -0.314617   \n",
       "\n",
       "       7         8         9     ...      2848      2849      2850      2851  \\\n",
       "0 -0.304878 -0.288711 -0.275025  ... -1.639718 -1.445889  0.749370  0.398822   \n",
       "1 -0.304878 -0.288711 -0.275025  ... -1.376944 -1.533710  0.726632  0.356310   \n",
       "2  3.279998 -0.288711 -0.275025  ... -1.639718 -1.340266  0.830436  0.398822   \n",
       "3  3.279998 -0.288711 -0.275025  ... -1.582576 -1.340266  0.717536  0.443707   \n",
       "4  3.279998 -0.288711 -0.275025  ... -1.582576 -1.340266  0.717536  0.443707   \n",
       "\n",
       "       2852      2853      2854      2855      2856      2857  \n",
       "0  1.707139 -1.346494  1.675901  1.722623 -0.926928 -0.132870  \n",
       "1  1.608080 -1.464930  1.451683  1.565805 -1.182783 -0.208400  \n",
       "2  1.712478 -1.219753  1.675901  1.722623 -0.798606 -0.208400  \n",
       "3  1.689938 -1.237944  1.621131  1.690982 -0.833207 -0.146117  \n",
       "4  1.689938 -1.237944  1.621131  1.690982 -0.833207 -0.146117  \n",
       "\n",
       "[5 rows x 2858 columns]"
      ]
     },
     "execution_count": 12,
     "metadata": {},
     "output_type": "execute_result"
    }
   ],
   "source": [
    "pd.DataFrame(features_std).head()"
   ]
  },
  {
   "cell_type": "markdown",
   "metadata": {},
   "source": [
    "# Instantiate PCA"
   ]
  },
  {
   "cell_type": "markdown",
   "metadata": {},
   "source": [
    "1.The idea with going from 2858 components to low components is to reduce the running time of a supervised learning algorithm"
   ]
  },
  {
   "cell_type": "code",
   "execution_count": 13,
   "metadata": {},
   "outputs": [],
   "source": [
    "# maintain 95% variance/information\n",
    "pca = PCA(.95)"
   ]
  },
  {
   "cell_type": "code",
   "execution_count": 14,
   "metadata": {},
   "outputs": [],
   "source": [
    "features_std_pca = pca.fit_transform(features_std)"
   ]
  },
  {
   "cell_type": "code",
   "execution_count": 17,
   "metadata": {},
   "outputs": [
    {
     "data": {
      "text/plain": [
       "18"
      ]
     },
     "execution_count": 17,
     "metadata": {},
     "output_type": "execute_result"
    }
   ],
   "source": [
    "pca.n_components_\n",
    "# 18 features are enough to maintain 95% information"
   ]
  },
  {
   "cell_type": "code",
   "execution_count": 18,
   "metadata": {},
   "outputs": [
    {
     "data": {
      "text/html": [
       "<div>\n",
       "<style scoped>\n",
       "    .dataframe tbody tr th:only-of-type {\n",
       "        vertical-align: middle;\n",
       "    }\n",
       "\n",
       "    .dataframe tbody tr th {\n",
       "        vertical-align: top;\n",
       "    }\n",
       "\n",
       "    .dataframe thead th {\n",
       "        text-align: right;\n",
       "    }\n",
       "</style>\n",
       "<table border=\"1\" class=\"dataframe\">\n",
       "  <thead>\n",
       "    <tr style=\"text-align: right;\">\n",
       "      <th></th>\n",
       "      <th>0</th>\n",
       "      <th>1</th>\n",
       "      <th>2</th>\n",
       "      <th>3</th>\n",
       "      <th>4</th>\n",
       "      <th>5</th>\n",
       "      <th>6</th>\n",
       "      <th>7</th>\n",
       "      <th>8</th>\n",
       "      <th>9</th>\n",
       "      <th>10</th>\n",
       "      <th>11</th>\n",
       "      <th>12</th>\n",
       "      <th>13</th>\n",
       "      <th>14</th>\n",
       "      <th>15</th>\n",
       "      <th>16</th>\n",
       "      <th>17</th>\n",
       "    </tr>\n",
       "  </thead>\n",
       "  <tbody>\n",
       "    <tr>\n",
       "      <th>0</th>\n",
       "      <td>4.050208</td>\n",
       "      <td>-17.071477</td>\n",
       "      <td>-3.505035</td>\n",
       "      <td>-1.123575</td>\n",
       "      <td>-12.743371</td>\n",
       "      <td>-20.838663</td>\n",
       "      <td>10.354001</td>\n",
       "      <td>-14.473610</td>\n",
       "      <td>12.219461</td>\n",
       "      <td>0.471485</td>\n",
       "      <td>-3.082787</td>\n",
       "      <td>-4.330123</td>\n",
       "      <td>-6.325942</td>\n",
       "      <td>0.003901</td>\n",
       "      <td>2.393738</td>\n",
       "      <td>-1.839816</td>\n",
       "      <td>0.503235</td>\n",
       "      <td>0.389858</td>\n",
       "    </tr>\n",
       "    <tr>\n",
       "      <th>1</th>\n",
       "      <td>4.203166</td>\n",
       "      <td>-17.651878</td>\n",
       "      <td>-2.930480</td>\n",
       "      <td>-1.206873</td>\n",
       "      <td>-11.015148</td>\n",
       "      <td>-16.684739</td>\n",
       "      <td>10.503328</td>\n",
       "      <td>-14.389937</td>\n",
       "      <td>12.091720</td>\n",
       "      <td>-0.047680</td>\n",
       "      <td>-3.089018</td>\n",
       "      <td>-5.439553</td>\n",
       "      <td>-6.129619</td>\n",
       "      <td>0.163895</td>\n",
       "      <td>2.803942</td>\n",
       "      <td>-2.001291</td>\n",
       "      <td>0.081613</td>\n",
       "      <td>-0.729451</td>\n",
       "    </tr>\n",
       "    <tr>\n",
       "      <th>2</th>\n",
       "      <td>3.703726</td>\n",
       "      <td>-16.225438</td>\n",
       "      <td>-3.397368</td>\n",
       "      <td>-0.985778</td>\n",
       "      <td>-12.574749</td>\n",
       "      <td>-20.920623</td>\n",
       "      <td>9.377843</td>\n",
       "      <td>-14.224020</td>\n",
       "      <td>11.628696</td>\n",
       "      <td>0.607966</td>\n",
       "      <td>-3.331265</td>\n",
       "      <td>-4.365324</td>\n",
       "      <td>-6.379162</td>\n",
       "      <td>-0.115150</td>\n",
       "      <td>3.096875</td>\n",
       "      <td>-2.136009</td>\n",
       "      <td>0.357756</td>\n",
       "      <td>0.381068</td>\n",
       "    </tr>\n",
       "    <tr>\n",
       "      <th>3</th>\n",
       "      <td>5.000333</td>\n",
       "      <td>-15.788202</td>\n",
       "      <td>-2.739918</td>\n",
       "      <td>-0.657676</td>\n",
       "      <td>-12.280664</td>\n",
       "      <td>-19.050343</td>\n",
       "      <td>9.179843</td>\n",
       "      <td>-14.039454</td>\n",
       "      <td>11.184965</td>\n",
       "      <td>0.782252</td>\n",
       "      <td>-3.606283</td>\n",
       "      <td>-6.072215</td>\n",
       "      <td>-7.976908</td>\n",
       "      <td>-0.255719</td>\n",
       "      <td>3.217437</td>\n",
       "      <td>-2.332268</td>\n",
       "      <td>0.396024</td>\n",
       "      <td>-0.239494</td>\n",
       "    </tr>\n",
       "    <tr>\n",
       "      <th>4</th>\n",
       "      <td>5.000333</td>\n",
       "      <td>-15.788202</td>\n",
       "      <td>-2.739918</td>\n",
       "      <td>-0.657676</td>\n",
       "      <td>-12.280664</td>\n",
       "      <td>-19.050343</td>\n",
       "      <td>9.179843</td>\n",
       "      <td>-14.039454</td>\n",
       "      <td>11.184965</td>\n",
       "      <td>0.782252</td>\n",
       "      <td>-3.606283</td>\n",
       "      <td>-6.072215</td>\n",
       "      <td>-7.976908</td>\n",
       "      <td>-0.255719</td>\n",
       "      <td>3.217437</td>\n",
       "      <td>-2.332268</td>\n",
       "      <td>0.396024</td>\n",
       "      <td>-0.239494</td>\n",
       "    </tr>\n",
       "  </tbody>\n",
       "</table>\n",
       "</div>"
      ],
      "text/plain": [
       "         0          1         2         3          4          5          6   \\\n",
       "0  4.050208 -17.071477 -3.505035 -1.123575 -12.743371 -20.838663  10.354001   \n",
       "1  4.203166 -17.651878 -2.930480 -1.206873 -11.015148 -16.684739  10.503328   \n",
       "2  3.703726 -16.225438 -3.397368 -0.985778 -12.574749 -20.920623   9.377843   \n",
       "3  5.000333 -15.788202 -2.739918 -0.657676 -12.280664 -19.050343   9.179843   \n",
       "4  5.000333 -15.788202 -2.739918 -0.657676 -12.280664 -19.050343   9.179843   \n",
       "\n",
       "          7          8         9         10        11        12        13  \\\n",
       "0 -14.473610  12.219461  0.471485 -3.082787 -4.330123 -6.325942  0.003901   \n",
       "1 -14.389937  12.091720 -0.047680 -3.089018 -5.439553 -6.129619  0.163895   \n",
       "2 -14.224020  11.628696  0.607966 -3.331265 -4.365324 -6.379162 -0.115150   \n",
       "3 -14.039454  11.184965  0.782252 -3.606283 -6.072215 -7.976908 -0.255719   \n",
       "4 -14.039454  11.184965  0.782252 -3.606283 -6.072215 -7.976908 -0.255719   \n",
       "\n",
       "         14        15        16        17  \n",
       "0  2.393738 -1.839816  0.503235  0.389858  \n",
       "1  2.803942 -2.001291  0.081613 -0.729451  \n",
       "2  3.096875 -2.136009  0.357756  0.381068  \n",
       "3  3.217437 -2.332268  0.396024 -0.239494  \n",
       "4  3.217437 -2.332268  0.396024 -0.239494  "
      ]
     },
     "execution_count": 18,
     "metadata": {},
     "output_type": "execute_result"
    }
   ],
   "source": [
    "pd.DataFrame(features_std_pca).head()"
   ]
  },
  {
   "cell_type": "markdown",
   "metadata": {},
   "source": [
    "# Graph of Explained Variance vs Number of Principal Components"
   ]
  },
  {
   "cell_type": "markdown",
   "metadata": {},
   "source": [
    "code is modified from https://github.com/mGalarnyk/Python_Tutorials/blob/master/Sklearn/PCA/PCA_Image_Reconstruction_and_such.ipynb"
   ]
  },
  {
   "cell_type": "code",
   "execution_count": 54,
   "metadata": {},
   "outputs": [],
   "source": [
    "# if n_components is not set all components are kept (2858 in this case)\n",
    "pca = PCA(random_state=42)"
   ]
  },
  {
   "cell_type": "code",
   "execution_count": 55,
   "metadata": {},
   "outputs": [
    {
     "data": {
      "text/plain": [
       "PCA(copy=True, iterated_power='auto', n_components=None, random_state=42,\n",
       "    svd_solver='auto', tol=0.0, whiten=False)"
      ]
     },
     "execution_count": 55,
     "metadata": {},
     "output_type": "execute_result"
    }
   ],
   "source": [
    "pca.fit(features_std)"
   ]
  },
  {
   "cell_type": "code",
   "execution_count": 56,
   "metadata": {},
   "outputs": [
    {
     "data": {
      "text/plain": [
       "2858"
      ]
     },
     "execution_count": 56,
     "metadata": {},
     "output_type": "execute_result"
    }
   ],
   "source": [
    "pca.n_components_"
   ]
  },
  {
   "cell_type": "code",
   "execution_count": 57,
   "metadata": {},
   "outputs": [
    {
     "data": {
      "text/plain": [
       "2853.283479849299"
      ]
     },
     "execution_count": 57,
     "metadata": {},
     "output_type": "execute_result"
    }
   ],
   "source": [
    "# Summing explained variance\n",
    "tot = sum(pca.explained_variance_)\n",
    "tot"
   ]
  },
  {
   "cell_type": "code",
   "execution_count": 58,
   "metadata": {},
   "outputs": [
    {
     "name": "stdout",
     "output_type": "stream",
     "text": [
      "[19.15878182280223, 14.531350906047408, 12.256397434304798, 10.600199744602032, 8.863615233350979]\n"
     ]
    }
   ],
   "source": [
    "# Explained variance on first five features\n",
    "var_exp = [(i/tot)*100 for i in sorted(pca.explained_variance_, reverse=True)] \n",
    "print(var_exp[0:5])"
   ]
  },
  {
   "cell_type": "code",
   "execution_count": 59,
   "metadata": {},
   "outputs": [],
   "source": [
    "# Cumulative explained variance\n",
    "cum_var_exp = np.cumsum(var_exp)"
   ]
  },
  {
   "cell_type": "markdown",
   "metadata": {},
   "source": [
    "Plot can help you understand the level of redundancy present in multiple dimensions."
   ]
  },
  {
   "cell_type": "code",
   "execution_count": 60,
   "metadata": {},
   "outputs": [
    {
     "data": {
      "image/png": "[encoded data removed]",
      "text/plain": [
       "<Figure size 720x360 with 1 Axes>"
      ]
     },
     "metadata": {
      "needs_background": "light"
     },
     "output_type": "display_data"
    }
   ],
   "source": [
    "# PLOT OUT THE EXPLAINED VARIANCES SUPERIMPOSED \n",
    "plt.figure(figsize=(10, 5))\n",
    "plt.step(range(1, 2859), cum_var_exp, where='mid',label='cumulative explained variance')\n",
    "plt.title('Cumulative Explained Variance as a Function of the Number of Components')\n",
    "plt.ylabel('Cumulative Explained variance')\n",
    "plt.xlabel('Principal components')\n",
    "plt.axhline(y = 99, color='b', linestyle='-.', label = '99% Explained Variance')\n",
    "plt.axhline(y = 95, color='k', linestyle='-', label = '95% Explained Variance')\n",
    "plt.axhline(y = 90, color='c', linestyle=':', label = '90% Explained Variance')\n",
    "plt.axhline(y = 85, color='r', linestyle='--', label = '85% Explained Variance')\n",
    "plt.legend(loc='best')\n",
    "plt.show()"
   ]
  },
  {
   "cell_type": "markdown",
   "metadata": {},
   "source": [
    "# Number of Principal Components for 99%, 95%, 90%, and 85% of Explained Variance"
   ]
  },
  {
   "cell_type": "code",
   "execution_count": 61,
   "metadata": {},
   "outputs": [],
   "source": [
    "# Indices corresponding to the first occurrence are returned with the np.argmax function\n",
    "# Adding 1 to the end of value in list as principal components start from 1 and indexes start from 0 (np.argmax)\n",
    "# argmax returns the position of the largest value (https://stackoverflow.com/questions/36300334/understanding-argmax)\n",
    "componentsVariance = [2858, np.argmax(cum_var_exp > 99) + 1, np.argmax(cum_var_exp > 95) + 1, np.argmax(cum_var_exp > 90) + 1, np.argmax(cum_var_exp >= 85) + 1]"
   ]
  },
  {
   "cell_type": "code",
   "execution_count": 62,
   "metadata": {},
   "outputs": [
    {
     "data": {
      "text/plain": [
       "[2858, 66, 18, 12, 10]"
      ]
     },
     "execution_count": 62,
     "metadata": {},
     "output_type": "execute_result"
    }
   ],
   "source": [
    "componentsVariance"
   ]
  },
  {
   "cell_type": "code",
   "execution_count": 63,
   "metadata": {},
   "outputs": [
    {
     "name": "stdout",
     "output_type": "stream",
     "text": [
      "2858 is required to maitain 100% variance\n",
      "66 is required to maitain 99% variance\n",
      "18 is required to maitain 95% variance\n",
      "12 is required to maitain 90% variance\n",
      "10 is required to maitain 85% variance\n",
      "\n"
     ]
    }
   ],
   "source": [
    "print(str(componentsVariance[0]) + ' is required to maitain 100% variance\\n' +\n",
    "      str(componentsVariance[1]) + ' is required to maitain 99% variance\\n' +\n",
    "      str(componentsVariance[2]) + ' is required to maitain 95% variance\\n' +\n",
    "      str(componentsVariance[3]) + ' is required to maitain 90% variance\\n' +\n",
    "      str(componentsVariance[4]) + ' is required to maitain 85% variance\\n')"
   ]
  },
  {
   "cell_type": "code",
   "execution_count": null,
   "metadata": {},
   "outputs": [],
   "source": []
  }
 ],
 "metadata": {
  "kernelspec": {
   "display_name": "Python 3",
   "language": "python",
   "name": "python3"
  },
  "language_info": {
   "codemirror_mode": {
    "name": "ipython",
    "version": 3
   },
   "file_extension": ".py",
   "mimetype": "text/x-python",
   "name": "python",
   "nbconvert_exporter": "python",
   "pygments_lexer": "ipython3",
   "version": "3.7.3"
  }
 },
 "nbformat": 4,
 "nbformat_minor": 2
}
