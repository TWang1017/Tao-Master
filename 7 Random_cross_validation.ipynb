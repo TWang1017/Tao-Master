{
 "cells": [
  {
   "cell_type": "code",
   "execution_count": 163,
   "metadata": {
    "scrolled": true
   },
   "outputs": [
    {
     "name": "stdout",
     "output_type": "stream",
     "text": [
      "Training Set: [10, 24, 26, 4, 22, 39, 17, 40, 20, 12, 47, 25, 34, 30, 32, 44, 5, 29, 11, 27, 37, 1, 45, 19, 43, 51, 36, 49, 31, 21, 23, 13, 52, 33, 46, 14, 42, 50, 3] Testing Set: [28]\n",
      "Training Set: [12, 19, 51, 4, 1, 3, 5, 28, 27, 25, 16, 43, 33, 21, 13, 7, 22, 31, 47, 36, 42, 10, 9, 11, 35, 8, 14, 48, 23, 37, 45, 34, 41, 52, 15, 30, 6, 2, 26] Testing Set: [49]\n",
      "Training Set: [25, 11, 8, 4, 10, 26, 22, 49, 36, 43, 44, 35, 52, 37, 34, 17, 1, 23, 16, 14, 6, 12, 20, 47, 46, 40, 30, 18, 45, 42, 9, 33, 38, 41, 32, 21, 39, 24, 51] Testing Set: [48]\n",
      "Training Set: [43, 47, 40, 4, 12, 51, 1, 48, 14, 35, 7, 46, 41, 42, 33, 5, 10, 45, 44, 30, 39, 25, 27, 16, 15, 28, 21, 29, 9, 6, 20, 52, 50, 38, 13, 37, 3, 19, 8] Testing Set: [18]\n",
      "Training Set: [35, 16, 28, 4, 25, 8, 10, 18, 30, 46, 17, 15, 38, 6, 52, 22, 12, 9, 7, 21, 3, 43, 36, 44, 32, 49, 37, 31, 20, 39, 27, 41, 2, 50, 34, 42, 26, 11, 40] Testing Set: [29]\n"
     ]
    }
   ],
   "source": [
    "import random\n",
    "weeks = list(range(1,53))\n",
    "train_test_list = ([39,1],[39,1],[39,1],[39,1],[39,1])\n",
    "# print('{} {:^65} {}'.format('Iteration', 'Training set observations', 'Testing set observations'))\n",
    "lst = []\n",
    "for k in train_test_list:\n",
    "    random.shuffle(weeks)\n",
    "    random.seed(42)\n",
    "    lst.append([weeks[0:k[0]], weeks[k[0]:k[0]+k[1]]])\n",
    "    print('Training Set: '+str(weeks[0:k[0]]), 'Testing Set: '+str(weeks[k[0]:k[0]+k[1]]))"
   ]
  },
  {
   "cell_type": "code",
   "execution_count": 164,
   "metadata": {},
   "outputs": [
    {
     "data": {
      "image/png": "[encoded data removed]",
      "text/plain": [
       "<Figure size 1152x144 with 1 Axes>"
      ]
     },
     "metadata": {
      "needs_background": "light"
     },
     "output_type": "display_data"
    },
    {
     "data": {
      "image/png": "[encoded data removed]",
      "text/plain": [
       "<Figure size 1152x144 with 1 Axes>"
      ]
     },
     "metadata": {
      "needs_background": "light"
     },
     "output_type": "display_data"
    },
    {
     "data": {
      "image/png": "[encoded data removed]",
      "text/plain": [
       "<Figure size 1152x144 with 1 Axes>"
      ]
     },
     "metadata": {
      "needs_background": "light"
     },
     "output_type": "display_data"
    },
    {
     "data": {
      "image/png": "[encoded data removed]",
      "text/plain": [
       "<Figure size 1152x144 with 1 Axes>"
      ]
     },
     "metadata": {
      "needs_background": "light"
     },
     "output_type": "display_data"
    },
    {
     "data": {
      "image/png": "[encoded data removed]",
      "text/plain": [
       "<Figure size 1152x144 with 1 Axes>"
      ]
     },
     "metadata": {
      "needs_background": "light"
     },
     "output_type": "display_data"
    }
   ],
   "source": [
    "import matplotlib.pyplot as plt\n",
    "import numpy as np\n",
    "from matplotlib.colors import ListedColormap\n",
    "\n",
    "cmap = ListedColormap(['w', 'k', 'r'])\n",
    "\n",
    "for l in range(5):\n",
    "    TF = []\n",
    "    for i in list(range(1,53)):\n",
    "        if i in lst[l][0]:\n",
    "            TF.append('1')\n",
    "        elif i in lst[l][1]:\n",
    "            TF.append('2')\n",
    "        else:\n",
    "            TF.append('0')\n",
    "#     print(TF)\n",
    "    plt.matshow(np.array(TF, dtype=float).reshape(1,-1), cmap=cmap)\n",
    "\n"
   ]
  },
  {
   "cell_type": "code",
   "execution_count": null,
   "metadata": {},
   "outputs": [],
   "source": []
  }
 ],
 "metadata": {
  "kernelspec": {
   "display_name": "Python 3",
   "language": "python",
   "name": "python3"
  },
  "language_info": {
   "codemirror_mode": {
    "name": "ipython",
    "version": 3
   },
   "file_extension": ".py",
   "mimetype": "text/x-python",
   "name": "python",
   "nbconvert_exporter": "python",
   "pygments_lexer": "ipython3",
   "version": "3.7.3"
  }
 },
 "nbformat": 4,
 "nbformat_minor": 2
}
