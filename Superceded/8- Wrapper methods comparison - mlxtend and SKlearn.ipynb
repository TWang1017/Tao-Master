{
 "cells": [
  {
   "cell_type": "code",
   "execution_count": 1,
   "metadata": {},
   "outputs": [
    {
     "name": "stderr",
     "output_type": "stream",
     "text": [
      "/Users/t.wang/anaconda3/lib/python3.7/site-packages/lightgbm/__init__.py:46: UserWarning: Starting from version 2.2.1, the library file in distribution wheels for macOS is built by the Apple Clang (Xcode_9.4.1) compiler.\n",
      "This means that in case of installing LightGBM from PyPI via the ``pip install lightgbm`` command, you don't need to install the gcc compiler anymore.\n",
      "Instead of that, you need to install the OpenMP library, which is required for running LightGBM on the system with the Apple Clang compiler.\n",
      "You can install the OpenMP library by the following command: ``brew install libomp``.\n",
      "  \"You can install the OpenMP library by the following command: ``brew install libomp``.\", UserWarning)\n",
      "/Users/t.wang/anaconda3/lib/python3.7/site-packages/sklearn/externals/joblib/__init__.py:15: DeprecationWarning: sklearn.externals.joblib is deprecated in 0.21 and will be removed in 0.23. Please import this functionality directly from joblib, which can be installed with: pip install joblib. If this warning is raised when loading pickled models, you may need to re-serialize those models with scikit-learn 0.21+.\n",
      "  warnings.warn(msg, category=DeprecationWarning)\n"
     ]
    }
   ],
   "source": [
    "import pandas as pd\n",
    "import numpy as np\n",
    "from feature_selector import FeatureSelector\n",
    "import seaborn as sns\n",
    "import matplotlib.pyplot as plt\n",
    "from sklearn.feature_selection import VarianceThreshold\n",
    "from sklearn.ensemble import RandomForestRegressor\n",
    "from mlxtend.feature_selection import SequentialFeatureSelector as SFS\n",
    "from mlxtend.plotting import plot_sequential_feature_selection as plot_sfs\n",
    "import time\n",
    "import warnings\n",
    "warnings.filterwarnings('ignore')\n",
    "%matplotlib inline"
   ]
  },
  {
   "cell_type": "markdown",
   "metadata": {},
   "source": [
    "1. The comparison of Wrapper methods involves extracting one year data of one building.\n",
    "2. The prediction performance is evaluated after implementing various Wrapper methods using metrics such as RMSE.\n",
    "\n",
    "Caveats:\n",
    "1. How representitive of that one building out of 482 buildings, can this result (best wrapper method) be applied to all buildings?\n",
    "2. How aboout repeating this process multiple times? apply the process two all categories, 2-3 buildingds from each category?"
   ]
  },
  {
   "cell_type": "code",
   "execution_count": 2,
   "metadata": {},
   "outputs": [],
   "source": [
    "features = pd.read_csv('/Users/t.wang/Desktop/Dissertation/Python/WT-result/'+ 'One_year_features' + '.csv')\n",
    "targets = pd.read_csv('/Users/t.wang/Desktop/Dissertation/Python/WT-result/'+ 'One_year_target' + '.csv')"
   ]
  },
  {
   "cell_type": "markdown",
   "metadata": {},
   "source": [
    "# Wrapper methods - mlxtend"
   ]
  },
  {
   "cell_type": "code",
   "execution_count": 3,
   "metadata": {
    "scrolled": true
   },
   "outputs": [
    {
     "name": "stdout",
     "output_type": "stream",
     "text": [
      "\n",
      "Sequential Forward Selection (k=16):\n",
      "(2, 6, 8, 11, 53, 64, 66, 68, 75, 83, 95, 96, 102, 113, 116, 126)\n",
      "CV Score:\n",
      "-672.4211560709999\n",
      "Time for SFS:00:53:13\n",
      "\n",
      "Sequential Forward Floating Selection (k=16):\n",
      "(2, 6, 11, 22, 23, 44, 49, 53, 63, 64, 66, 86, 92, 95, 105, 106)\n",
      "CV Score:\n",
      "-661.3537350972724\n",
      "Time for SFFS:01:59:13\n"
     ]
    }
   ],
   "source": [
    "# As previous plots indicate, score is not improved after 15 features\n",
    "feature_num = 16\n",
    "rf_r = RandomForestRegressor(n_estimators=100, random_state=42)\n",
    "\n",
    "start = time.time()\n",
    "sfs = SFS(rf_r, \n",
    "          k_features=feature_num, \n",
    "          forward=True, \n",
    "          floating=False, \n",
    "          scoring='neg_mean_squared_error',\n",
    "          cv=4,\n",
    "          n_jobs=-1)\n",
    "sfs = sfs.fit(features, targets)\n",
    "print('\\nSequential Forward Selection (k=16):')\n",
    "print(sfs.k_feature_idx_)\n",
    "print('CV Score:')\n",
    "print(sfs.k_score_)\n",
    "end = time.time()\n",
    "elapsed = end - start \n",
    "print('Time for SFS:'+ time.strftime(\"%H:%M:%S\", time.gmtime(elapsed)))\n",
    "\n",
    "\n",
    "###################################################\n",
    "# start = time.time()\n",
    "# sbs = SFS(rf_r, \n",
    "#           k_features=feature_num, \n",
    "#           forward=False, \n",
    "#           floating=False, \n",
    "#           scoring='neg_mean_squared_error',\n",
    "#           cv=4,\n",
    "#           n_jobs=-1)\n",
    "# sbs = sbs.fit(features, targets)\n",
    "# print('\\nSequential Backward Selection (k=16):')\n",
    "# print(sbs.k_feature_idx_)\n",
    "# print('CV Score:')\n",
    "# print(sbs.k_score_)\n",
    "# end = time.time()\n",
    "# elapsed = end - start \n",
    "# print('Time for SBS:'+ time.strftime(\"%H:%M:%S\", time.gmtime(elapsed)))\n",
    "\n",
    "\n",
    "###################################################\n",
    "# The sequential forward floating selection, based on sequential forward selection, has one more verification step.\n",
    "# The algorithm also verifies the possibility of improvement of the criterion if some feature is excluded. \n",
    "# In this case, the worst feature (concerning the criterion) is eliminated from the set, \n",
    "# that is, it is performed one step of sequential backward selection (SBS). \n",
    "# Therefore, the SFFS proceeds dynamically increasing and decreasing the number of features until the desired d is reached.\n",
    "# http://www.robots.ox.ac.uk/~teo/campos_icapr2001/node2.html\n",
    "start = time.time()\n",
    "sffs = SFS(rf_r, \n",
    "          k_features=feature_num, \n",
    "          forward=True, \n",
    "          floating=True, \n",
    "          scoring='neg_mean_squared_error',\n",
    "          cv=4,\n",
    "          n_jobs=-1)\n",
    "sffs = sffs.fit(features, targets)\n",
    "print('\\nSequential Forward Floating Selection (k=16):')\n",
    "print(sffs.k_feature_idx_)\n",
    "print('CV Score:')\n",
    "print(sffs.k_score_)\n",
    "end = time.time()\n",
    "elapsed = end - start \n",
    "print('Time for SFFS:'+ time.strftime(\"%H:%M:%S\", time.gmtime(elapsed)))\n",
    "\n",
    "\n",
    "###################################################\n",
    "# start = time.time()\n",
    "# sbfs = SFS(rf_r, \n",
    "#           k_features=feature_num, \n",
    "#           forward=False, \n",
    "#           floating=True, \n",
    "#           scoring='neg_mean_squared_error',\n",
    "#           cv=4,\n",
    "#           n_jobs=-1)\n",
    "# sbfs = sbfs.fit(features, targets)\n",
    "# print('\\nSequential Backward Floating Selection (k=16):')\n",
    "# print(sbfs.k_feature_idx_)\n",
    "# print('CV Score:')\n",
    "# print(sbfs.k_score_)\n",
    "# end = time.time()\n",
    "# elapsed = end - start \n",
    "# print('Time for SBFS:'+ time.strftime(\"%H:%M:%S\", time.gmtime(elapsed)))"
   ]
  },
  {
   "cell_type": "code",
   "execution_count": null,
   "metadata": {},
   "outputs": [],
   "source": []
  },
  {
   "cell_type": "code",
   "execution_count": 5,
   "metadata": {},
   "outputs": [
    {
     "data": {
      "image/png": "[encoded data removed]",
      "text/plain": [
       "<Figure size 432x288 with 1 Axes>"
      ]
     },
     "metadata": {
      "needs_background": "light"
     },
     "output_type": "display_data"
    },
    {
     "data": {
      "image/png": "[encoded data removed]",
      "text/plain": [
       "<Figure size 432x288 with 1 Axes>"
      ]
     },
     "metadata": {
      "needs_background": "light"
     },
     "output_type": "display_data"
    }
   ],
   "source": [
    "# Plotting the results\n",
    "fig = plot_sfs(sfs.get_metric_dict(), kind='std_err')\n",
    "\n",
    "plt.title('Sequential Forward Selection (w. StdErr)')\n",
    "plt.grid()\n",
    "plt.show()\n",
    "\n",
    "\n",
    "# Plotting the results\n",
    "fig = plot_sfs(sffs.get_metric_dict(), kind='std_err')\n",
    "\n",
    "plt.title('Sequential Forward Floating Selection (w. StdErr)')\n",
    "plt.grid()\n",
    "plt.show()"
   ]
  },
  {
   "cell_type": "code",
   "execution_count": 6,
   "metadata": {},
   "outputs": [
    {
     "data": {
      "text/plain": [
       "(8760, 16)"
      ]
     },
     "execution_count": 6,
     "metadata": {},
     "output_type": "execute_result"
    }
   ],
   "source": [
    "# new features after SFS\n",
    "features_SFS = sfs.transform(features)\n",
    "features_SFS.shape"
   ]
  },
  {
   "cell_type": "code",
   "execution_count": 7,
   "metadata": {},
   "outputs": [
    {
     "data": {
      "text/plain": [
       "(8760, 16)"
      ]
     },
     "execution_count": 7,
     "metadata": {},
     "output_type": "execute_result"
    }
   ],
   "source": [
    "# new features after SFFS\n",
    "features_SFFS = sffs.transform(features)\n",
    "features_SFFS.shape"
   ]
  },
  {
   "cell_type": "markdown",
   "metadata": {},
   "source": [
    "# Wrapper method - SKlearn"
   ]
  },
  {
   "cell_type": "code",
   "execution_count": 8,
   "metadata": {},
   "outputs": [],
   "source": [
    "from sklearn.model_selection import cross_val_score\n",
    "from sklearn.feature_selection import RFE"
   ]
  },
  {
   "cell_type": "code",
   "execution_count": 9,
   "metadata": {},
   "outputs": [
    {
     "data": {
      "text/plain": [
       "(8760, 128)"
      ]
     },
     "execution_count": 9,
     "metadata": {},
     "output_type": "execute_result"
    }
   ],
   "source": [
    "features.shape"
   ]
  },
  {
   "cell_type": "code",
   "execution_count": 11,
   "metadata": {},
   "outputs": [
    {
     "name": "stdout",
     "output_type": "stream",
     "text": [
      "Fitting estimator with 128 features.\n",
      "Fitting estimator with 120 features.\n",
      "Fitting estimator with 112 features.\n",
      "Fitting estimator with 104 features.\n",
      "Fitting estimator with 96 features.\n",
      "Fitting estimator with 88 features.\n",
      "Fitting estimator with 80 features.\n",
      "Fitting estimator with 72 features.\n",
      "Time for RFE:00:06:18\n"
     ]
    }
   ],
   "source": [
    "# Recursive feature elimination \n",
    "start = time.time()\n",
    "rfe = RFE(estimator=rf_r, step=8,verbose=True)\n",
    "rfe = rfe.fit(features, targets)\n",
    "end = time.time()\n",
    "elapsed = end - start \n",
    "print('Time for RFE:'+ time.strftime(\"%H:%M:%S\", time.gmtime(elapsed)))"
   ]
  },
  {
   "cell_type": "code",
   "execution_count": 12,
   "metadata": {},
   "outputs": [
    {
     "data": {
      "text/plain": [
       "(8760, 64)"
      ]
     },
     "execution_count": 12,
     "metadata": {},
     "output_type": "execute_result"
    }
   ],
   "source": [
    "features_RFE = rfe.transform(features)\n",
    "features_RFE.shape"
   ]
  },
  {
   "cell_type": "code",
   "execution_count": 15,
   "metadata": {},
   "outputs": [
    {
     "name": "stdout",
     "output_type": "stream",
     "text": [
      "Time for RFE_CV:00:00:26\n",
      "26.36783995519145\n"
     ]
    }
   ],
   "source": [
    "start = time.time()\n",
    "# cross validation after RFE, cv=4 and scoring='neg_mean_squared_error', same as mlxtend\n",
    "RFE_Score = cross_val_score(rf_r, features_RFE, targets, cv=4, scoring='neg_mean_squared_error',n_jobs=-1)\n",
    "# fix the sign of MSE scores\n",
    "mse_RFE_Score = -RFE_Score\n",
    "# convert from MSE to RMSE \n",
    "rmse_RFE_Score = np.sqrt(mse_RFE_Score)\n",
    "# calculate the average RMSE\n",
    "end = time.time()\n",
    "elapsed = end - start \n",
    "print('Time for RFE_CV:'+ time.strftime(\"%H:%M:%S\", time.gmtime(elapsed)))\n",
    "print(rmse_RFE_Score.mean())"
   ]
  },
  {
   "cell_type": "code",
   "execution_count": 16,
   "metadata": {},
   "outputs": [
    {
     "name": "stdout",
     "output_type": "stream",
     "text": [
      "rmse_SFS_Score:\n",
      "25.931084745359186\n"
     ]
    }
   ],
   "source": [
    "print('rmse_SFS_Score:')\n",
    "print(np.sqrt(-sfs.k_score_))"
   ]
  },
  {
   "cell_type": "code",
   "execution_count": 17,
   "metadata": {},
   "outputs": [
    {
     "name": "stdout",
     "output_type": "stream",
     "text": [
      "rmse_SFFS_Score:\n",
      "25.71679869457457\n"
     ]
    }
   ],
   "source": [
    "print('rmse_SFFS_Score:')\n",
    "print(np.sqrt(-sffs.k_score_))"
   ]
  },
  {
   "cell_type": "code",
   "execution_count": null,
   "metadata": {},
   "outputs": [],
   "source": [
    "# scoring metrics: https://scikit-learn.org/stable/modules/model_evaluation.html"
   ]
  },
  {
   "cell_type": "markdown",
   "metadata": {},
   "source": [
    "1. The SFFS shows no obvious advantages over SFS, but takes twice the time\n",
    "2. SFS takes 1h and SFFS takes 2hs, due to the fact that SFFS introduces one more conditinal exclusion step\n",
    "3. The time spent on SFS and SFFS algorithms primarily depends on how much features are wanted, 16 in this case\n",
    "4. If the number of wanted features outnumbered half of the total features, use SBS, otherwise SFS\n",
    "5. SKlearn - RFE is computationally less complex, feature number does not need to be specified, the time is primarily associated with steps\n",
    "6. Regarding the accuracy, RFE is slightly inferior, which is eclipsed by the the advantage of computational cost saving\n",
    "7. Therefore, RFE could be a good option for further analysis\n",
    "8. Caveats: the hyperparameter is not detailly comparable, such as the 'number of features' in SFSs and 'steps' in REF\n",
    "9. We need again consider the selection of 'steps' in REF and how to reduce the computational cost, 7min is still too slow, potentially think about reduce the dimensions further with the aid of Filter method. Look at something in PCA"
   ]
  },
  {
   "cell_type": "code",
   "execution_count": null,
   "metadata": {},
   "outputs": [],
   "source": []
  }
 ],
 "metadata": {
  "kernelspec": {
   "display_name": "Python 3",
   "language": "python",
   "name": "python3"
  },
  "language_info": {
   "codemirror_mode": {
    "name": "ipython",
    "version": 3
   },
   "file_extension": ".py",
   "mimetype": "text/x-python",
   "name": "python",
   "nbconvert_exporter": "python",
   "pygments_lexer": "ipython3",
   "version": "3.7.3"
  }
 },
 "nbformat": 4,
 "nbformat_minor": 2
}
