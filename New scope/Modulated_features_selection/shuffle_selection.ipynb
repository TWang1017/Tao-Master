{
 "cells": [
  {
   "cell_type": "code",
   "execution_count": 1,
   "metadata": {},
   "outputs": [],
   "source": [
    "weeks = list(range(1,53))"
   ]
  },
  {
   "cell_type": "code",
   "execution_count": 4,
   "metadata": {},
   "outputs": [
    {
     "name": "stdout",
     "output_type": "stream",
     "text": [
      "[10, 24, 26, 4] [22]\n",
      "[12, 19, 51, 4] [1]\n",
      "[25, 11, 8, 4] [10]\n"
     ]
    }
   ],
   "source": [
    "import random\n",
    "weeks = list(range(1,53))\n",
    "train_test_list = ([4,1],[4,1],[4,1])\n",
    "\n",
    "for k in train_test_list:\n",
    "    random.shuffle(weeks)\n",
    "    random.seed(42)\n",
    "    print(weeks[0:k[0]], weeks[k[0]:k[0]+k[1]])"
   ]
  },
  {
   "cell_type": "code",
   "execution_count": null,
   "metadata": {},
   "outputs": [],
   "source": []
  }
 ],
 "metadata": {
  "kernelspec": {
   "display_name": "Python 3",
   "language": "python",
   "name": "python3"
  },
  "language_info": {
   "codemirror_mode": {
    "name": "ipython",
    "version": 3
   },
   "file_extension": ".py",
   "mimetype": "text/x-python",
   "name": "python",
   "nbconvert_exporter": "python",
   "pygments_lexer": "ipython3",
   "version": "3.7.3"
  }
 },
 "nbformat": 4,
 "nbformat_minor": 2
}
